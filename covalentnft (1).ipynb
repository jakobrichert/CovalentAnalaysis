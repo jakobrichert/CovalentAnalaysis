{
  "nbformat": 4,
  "nbformat_minor": 0,
  "metadata": {
    "colab": {
      "name": "covalentnft.ipynb",
      "provenance": [],
      "collapsed_sections": []
    },
    "kernelspec": {
      "name": "python3",
      "display_name": "Python 3"
    },
    "language_info": {
      "name": "python"
    }
  },
  "cells": [
    {
      "cell_type": "markdown",
      "source": [
        "\n",
        "#Codeless Con: Build An NFT CryptoSheets Using Covalent API\n",
        "#Submission from: **Jakob Richert**\n",
        "#Gitcoin Bounty Link: https://gitcoin.co/issue/covalenthq/covalent-gitcoin-bounties/18/100027635\n",
        "\n",
        "![favicon.png](data:image/png;base64,iVBORw0KGgoAAAANSUhEUgAAAM0AAAAyCAYAAAD/eF+lAAAABHNCSVQICAgIfAhkiAAAD4hJREFUeJztnXu0HVV9xz/73FcSAQMh7wRCJJQAJqFtStuoyKMNUi3QB2VBW5bULoxLxQJKbdeiqdpVcCGI6KqPQqEFKWCt2hSkhEc1YC1QAxhDriGJeRBCSGLI+95zZveP70zvnD175sycM+cmXWs+a80izNmz956Z/du/x/7tuYbOMcAMYD4wD5gLnAEcA8wG/hb4i6wKLNQ4ee4CalyF4X1gZoJ9DcsyqP2jGVy1ooR+VlSUgunguvHAQuBS4NeQ4BztqTNTaCwYTpl7KdT+GmN/wfk5wNotWHsj06fca556qt5mfysqSqO3jWuOAi4BrgTOAWod9WDO6fMhuBVjp3l+rWHMTIy5ha3bNwJPdNRWRUUJFBnw/cC70MD9GnBewesT2FmzxlBrfBSY2qLoBKy9zs6b95ZO2quoKIO8g/4Y4M+BB4FfBgZKab2/fwLUFmNMazPRcAZDQ7NLabeiogPymGcnAHcC59KpKZZgYAAa/2eW2fC/JvE/AIynYY4tt/2KiuK0EoKzgG/RvilmM3+tDQfAobQLmy62dgjLUBt9qKgolSxBOB24AziTzqJs6dTr+4CX44WjC4zREWM7tcbrbfajoqI00oRmCvJfFnZYf7amWbt2B4Z/AlqFki2mtozBwQ0d9qeiomN8QnMc8HdokbJTMjWNgYCD/XdiWU6a4FjbAPsYvdxqICihTxUVHeETmg8A76N9k6wQZsPKn1MLloC5B2wANnJnLDBsjVmOsVebVateG43+VFS0whWMdwEPAZPaqCsyxYaAVcAWYBuwI/z/N4D1wLqwjHuxYe7c07HmAqyZgbGbMfYJVq9eWWmYiiOVfhQpCxiZ6fMeDeBnwFdRpG0mSqkBuAkYBnYBa4GHkTabQukh7IpR4ETgfmCFc1xyODs1msTXaS4Mj6Jm2SH0EG8CBvE7/70oV2088DbgPcCPgFuBewu2VyYnAG8P+zQRiNaBhoHNwE+B55HWrBDjUETVzRO87zD05bByNPBvFNMyAdIuVwI9GXXflFHHfuAu2jMH2+VkYAnwArAPmYp1pC3j91YPf9sblv0gMHYU+3mkMhctE7jvcsnh7NRoEmmauSj5soiW2QH8CfAkGnDtMBb4Y6AP+ASwtc168tAHXIwyrk9D5mgaBk0EPeF184ArgAeAA13sY8Xh4UZkacR5Evimr3AkNJcCRZIh9wPXA8uL9s5DD3A5cBDN5u0KYBb9wNXAzbSnLSzwOLC7zE5VHDFcAZzinBsmQ2gmIuc9LwFwN+X6IjUkOP+N8tzKjpZ9EO3rSROYBtKcu5CA9CH/a0L4+yHgn7vQr4r/h/SidJnpBa5ZC3yZ8jXCOOA64F+AnSXWezLSiuM8v+0D/gtNAq8wIjRR4OJEYBEKELzsuT6OQXuNJqJZK3qmO9Az2xS2l5b9MN5zro58qjRqKAPd5WB4xOlDz+AtwCwUBImsi10o6LElbK8bOX419HzeCpyKNi0aFHDZELa9L+P6fpLvMAD2MDLRHYvGc5QNvxUFnHaSzHGM1+eL4o4h+U6i9riGZie4lfP/qZRG0sgKBPiOjxSouxW1sH3f/W1DQYwywt7jgauQAA552rIosvh5JFCu79gHPIOEK348Rrbv9Q7PNWuBy2JlJgF/gCa6VcjsSHv2m5Gmn5/RZjuBgBnAX6EBfMhz7UHkQ/xexv1e5rnPp4FpYZ++hITErXsP2v/lKoZ4fb4+7SLZ3lOEQauveC5IO4bQLFGEokKznBGzqFPGAT/xtLEfmYNZUb+8/CJ64fs97fjWs9YAv0tyW8ZXSEYv6ygk7sOghFq3jXXoGw0RlyPtkTcy2gA2IoH04ROagHShOQd4LryXVhPym8BnkUZy+VPPNa8BX0RR3KyJfxh4lOZn7quv1fEKElKeKXDRj8ie+XwUFZrNaKNbGbwN/8t6hHI0zEz0IPNq6uh4Fa2JxXkvMiPcsjektD0NaQ63/F00bxI8Df9M2upYhn/yKqJpTgFWp9Qf4Bfk/cgHdfEN8npKHWmCs7hFfbmEppbyYNJ4ge5Et+JMRb5EGbybpDapo4W4Tp368Ug7zKZZAC0KSw+ih+z6FqB7/CKymyOeQVrI5Tz8fstCks/JonuL2+/bgBdjv1vPv32cRXIBMw1fPWOApSQtkzrKCvkCMgVd/3UsCgEfl6PdHqRx89xTD82L9/uQH7UFv5+5N/Z7dGwDGr3IIczLGrovNDU0g5eB794ix7xT3o12s8YJ0IC4CWnMGnK6bwEW0CxcJyEzLVpJ34lMiF916nw7uo8fO+cXk1wmGAR+4Jx7E33XIUCm6o+RptuJBtIpKOTqavcJjGRItMK3vncqcJFzbgj5Vjei8H0f8H1kZsYnhgnA+Wh7ShYB8mNWI39jAxqf5yGzNB44MOg5jkXabBmK1gL8B3ofcb4B/I1zbhjlUBZST9e2uAkfRc0zix5qGXzKU/d6FGHplIecegPgJZIPH6QVXvX05V6atc1CpKXcclc69fUhOz5epoFesm8AH0e2Wb0Av0/2Xk/ZvObZtZ4yLyGTOU4/Grxu2Tto7YO8gQSkz6lzDPA9T/nv4PeX1njK3uopBxy5CZPeLdBt0K0PcUzG76A/gITS5VlkfrmcRvNK9CCaeV3cGfsCkl/w2Y4Ghc882Ul2GPn18CiLXuCdnvOvhEecIeQru8yh9YL7ATTgh53zB5Gm7wq9KAIxJWf5STTbkN3Aoj6VgS/RMkqP6YQTSPoZASO+g48XkTkWZxIj2eAgU+pR4DeccvPDNjeimfk9JKNvz6HkUh8GmTwnAr+CTMbjY7+Po7yIJeie3LQUgF9HGdEus1LqcDVIETZ1cG0mvehF5RWak5B26qZfsxeZHmXg01gT0QDMGuCtmEgyu8AiEyyNdZ5zfTQLsEVm3y1OuSnIdNuIBO1skmbYffgd2l7gd4API+e+aPQzD+4k2oP/S0cT8QuTj4l01teyrJUENeQc5mURZX3zLJ31lCc0rvMMsnd/q8N6ByhnjadBMoq3EdnjccaiDYI15H+4EalV+M2/PuBjwD1o3aUbAgNJAR4ooa0BjlD3oRe/DZ7GdDRbPdmd7gCy/8uyR59HA9Md4BcDtyEfoh12IHs6bloZsrc4zPCci9Z3XL6BTJlotjbAb6KBeAHJwfR9/KboAuBDNAcbQNbF2vCa15FQ/jZ+J7kdDuDPBl+X0k8f2+iituiEXjRID5J8sGksCa/Jyolql2Hg70k6du2yBaW2LHLOTw7beT9JxzQP20muvxgUlXs45ZozPefWIwF0WY60bTzSdCoSAt9K/Z34TbPzSUbzfobMtZWMaLlp6BmVJTTD+N/hN4GPl9TGYaOGTJgijvdikusTZRCgGXZliXUeRMLhG+CL0DrA7yP7OW0vUQ9ymuOz+yAyo9w6LyMZUgWltZzlOf88EkCXNYysIcT5EMkcqmfxm6GgCJTLD5A5182M7b34I2LnU85XjkaDVPO7F72gn+KPYPg4BvgkioKUmY28E+Ud+VbQO+FfgY+iWTouGDWUN3Y3ijytRMGB/bHf54THNKRho0znBpo1F8XqNCjK9TngM2jBrYYGyW0kF2yjScI3eAMUELjM6fNFNIdhh1FWeJoZ43vxZ4X9fCl2j+ei7GNf2ScYeSZ5sWh8XENz/89Ai5ufRyZ+lNxaQxPXaSiUv57WC5tl8qbn3NnIj9yLzOKTUITx8ahA0TycOhpseYICrRY3A7RI9YcFbrIo70T2dNFF1vjCobt4NxMNvLRrDpCeUdxAwpzFDEa+uZB2bCJ7oda3wBgdW9BgaXXv62gOr+dN2ByP0q6y6n41vEc3N+5Rz734xugm/L4i+Be20xY3v57jOUTHksjkWI4/JJpGtNvyZjrf378TbQd4oMN6sngafQHnJ7QXLjfIl4j7fZuRfZ62m3MM/rBrgKJj17Ro8zW0NSBrTex7SKNl/b4h5bdpNAcyosRHl7TcrFbsRsmmPvMzYirSdG6k7UzPuW7yCPktnOMjodmMpLvIomUfykb9EvlNuzgWzTJXI4Epy/n3ESAz42JkEkWpKkVYQPOmpGhGvBYNjFb1xWfRj5D0iVzqKD8qbcDWab2bdCUyDdMEIurXRuT7+cy8SFtm4fMHLfBdlLS5LUcdccbh9w27xcPA/5Cvj02LwLORmdSO+bINfRjDl7bimmfRfo2baV6VHk1ORv7TI8h+jgZGPM08QPbsavRQr6N5Zo4zC+UqvUizqRGlv29EAnB5G339ITJj3ONxwr0dLehB0bLlKLwc9S1KX/l0rJ7oQykbUBawRZNNfCF3Dgpxu/25MqMPs5Gv9xwjOy3drQEB8HNk0j1IMmBwhafN5zOewSc85e/Bv4OXsJ4vIJPPt52kHtbxSXeG+DRSqe2kLwyh8O1TaDZdgxzID6MPdxxCA/Bx9ALX4tMuj93wVoaCsdTNPi767J42+pEXg5zfySibtxdFpsYx8t2zvch83IleaBbR9VMZ2UocoAe9GZlbu9ro50mkb9XeSP4o2PFoYByF7vlVlCG8hRGT1YTlJoTl+pGZtTrWzgC6P9d82kp2YKgHPZvJ4fVxrR09791hHW+Q3Pp8LEkBqaMx59PGk0hmH+wJ20l7ZmOQgE+m2XqKxvYeYIsrNFPRrLogpdIiHERrEPcDt6OHkR6F+e7HplLveT+2di7YyVg2gX2E/uA+LritzChdRUVH+GzRc1C4s4wEPovMs8w/ic53rvsjMJ/BMIP4eoi1DQzrMPZ6njtmGUuXVl+DqTjs+HJ7ViB7v4wUhtYfH/z29fMw5mYMJyT6Y0wPmDkE5nZ+6UBaaLGiYlTxCc0wcmrvojuf8hnhwaX9GPsBZEOmY8wsgsZVXe1LRUVO0rJI6yhadDvdTJob2H88lkua+hHFKtx/G3sh374mW7gqKkaBrNTrA2j77B2Un9oiTGM6NZPP7DJMpbff3a1YUTHqtNqvsButen8crcUUJXuxqGaSi4xNf6029m/MIYKgO8JbUVGAvJt8voy+0ricYn5OdiBgqG8r2Gdz1GOBNfSbrm1hrajIS16hqQP/iT4begPKio5WTdvnxYFdGHM/2FYpNAHYr7P4lqxv/VZUjApFt5PuRmndC4E/Q3szsvK4soVq6dKA/T3/gDUvZJRqAA/Qb75VsK8VFV2h3X3uh9AmqX9HmbjbUepNlEPUx4hAriC2ByHBQ08f4op3rADqBMzAcBRgsAwBm6nZu4G/5MLPVX8bpuKIoMw/ez4WfcZ0GsrBOgrlY/2Q5IcikixdWuPMN+fTUzsbmI5lkIZ9mpVHv1xlAlQcSfwvosCtV/HqsRMAAAAASUVORK5CYII=)\n",
        "\n",
        "![gc-h-pos.103e252f8ca8.svg](data:image/svg+xml;base64,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)\n",
        "\n",
        "\n",
        "\n"
      ],
      "metadata": {
        "id": "Ryhm7atgq7Iy"
      }
    },
    {
      "cell_type": "markdown",
      "source": [
        "# Click the arrow to see the code for generating the datasheet below"
      ],
      "metadata": {
        "id": "jfhliVt3sKKR"
      }
    },
    {
      "cell_type": "code",
      "execution_count": null,
      "metadata": {
        "id": "JQCtsU_OfyqA"
      },
      "outputs": [],
      "source": [
        "#The code here generates a table of all the crypto data using the covalent api\n",
        "#The binance chain and avalanche/polygon test chains were not working with the API at this time\n",
        "from doctest import master\n",
        "from urllib import request\n",
        "import requests\n",
        "import json\n",
        "import pandas as pd\n",
        "import sqlite3\n",
        "from google.colab import data_table\n",
        "data_table.enable_dataframe_formatter()\n",
        "\n",
        "\n",
        "masterlist = []\n",
        "\n",
        "def maketable(url):\n",
        "  thisdata = []\n",
        "  data = requests.get(url)\n",
        "  chain = json.loads(data.text)\n",
        "  for x in chain['data']['items']:\n",
        "    thisdata.append(x)\n",
        "  return thisdata\n",
        "\n",
        "#Ethereum\n",
        "Ethereum = maketable('https://api.covalenthq.com/v1/1/nft_market/?format=JSON&page-size=10000&key=ckey_762a27bc3b6f4f2dbc03aeb8554')\n",
        "#Polygon\n",
        "Polygon = maketable('https://api.covalenthq.com/v1/137/nft_market/?format=JSON&page-size=1000000&key=ckey_762a27bc3b6f4f2dbc03aeb8554')\n",
        "#Polygon testnet\n",
        "#Polygon2 = maketable('https://api.covalenthq.com/v1/80001/nft_market/?format=JSON&page-size=1000000&key=ckey_762a27bc3b6f4f2dbc03aeb8554')\n",
        "#Avalanche\n",
        "Avalanche = maketable('https://api.covalenthq.com/v1/43114/nft_market/?format=JSON&page-size=1000000&key=ckey_762a27bc3b6f4f2dbc03aeb8554')\n",
        "#Fantom\n",
        "Fantom = maketable('https://api.covalenthq.com/v1/250/nft_market/?format=JSON&page-size=1000000&key=ckey_762a27bc3b6f4f2dbc03aeb8554')\n",
        "\n",
        "masterlist.extend(Ethereum)\n",
        "masterlist.extend(Polygon)\n",
        "#masterlist.extend(Polygon2)\n",
        "masterlist.extend(Avalanche)\n",
        "masterlist.extend(Fantom)\n",
        "\n",
        "masterlist = pd.DataFrame.from_dict(masterlist)\n",
        "\n",
        "masterlist.to_excel('master.xlsx')"
      ]
    },
    {
      "cell_type": "markdown",
      "source": [
        "#We will now show some of the table data (starting with the top 20 items of the sheet and following with the bottom 20)\n",
        "#You will be able to download this sheet and database file on \n",
        "#github.com/jakobrichert"
      ],
      "metadata": {
        "id": "fn7jpK5-hvwP"
      }
    },
    {
      "cell_type": "code",
      "source": [
        "showdata = pd.read_excel('./master.xlsx')\n",
        "showdata.head()"
      ],
      "metadata": {
        "colab": {
          "base_uri": "https://localhost:8080/",
          "height": 321
        },
        "id": "GsDbbyykseox",
        "outputId": "2005e1b2-d0b6-4a39-f7ea-18abc52b495b"
      },
      "execution_count": null,
      "outputs": [
        {
          "output_type": "stream",
          "name": "stdout",
          "text": [
            "Warning: Total number of columns (21) exceeds max_columns (20). Falling back to pandas display.\n"
          ]
        },
        {
          "output_type": "execute_result",
          "data": {
            "text/html": [
              "\n",
              "  <div id=\"df-a0558d45-cced-4513-ad60-eac9a7dbc88e\">\n",
              "    <div class=\"colab-df-container\">\n",
              "      <div>\n",
              "<style scoped>\n",
              "    .dataframe tbody tr th:only-of-type {\n",
              "        vertical-align: middle;\n",
              "    }\n",
              "\n",
              "    .dataframe tbody tr th {\n",
              "        vertical-align: top;\n",
              "    }\n",
              "\n",
              "    .dataframe thead th {\n",
              "        text-align: right;\n",
              "    }\n",
              "</style>\n",
              "<table border=\"1\" class=\"dataframe\">\n",
              "  <thead>\n",
              "    <tr style=\"text-align: right;\">\n",
              "      <th></th>\n",
              "      <th>Unnamed: 0</th>\n",
              "      <th>chain_id</th>\n",
              "      <th>collection_name</th>\n",
              "      <th>collection_address</th>\n",
              "      <th>volume_wei_24h</th>\n",
              "      <th>volume_quote_24h</th>\n",
              "      <th>avg_volume_wei_24h</th>\n",
              "      <th>avg_volume_quote_24h</th>\n",
              "      <th>contract_deployment_at</th>\n",
              "      <th>market_cap_wei</th>\n",
              "      <th>market_cap_quote</th>\n",
              "      <th>transaction_count_alltime</th>\n",
              "      <th>unique_wallet_purchase_count_alltime</th>\n",
              "      <th>unique_token_ids_sold_count_alltime</th>\n",
              "      <th>max_price_wei</th>\n",
              "      <th>max_price_quote</th>\n",
              "      <th>floor_price_wei_7d</th>\n",
              "      <th>floor_price_quote_7d</th>\n",
              "      <th>gas_quote_rate</th>\n",
              "      <th>quote_currency</th>\n",
              "      <th>opening_date</th>\n",
              "    </tr>\n",
              "  </thead>\n",
              "  <tbody>\n",
              "    <tr>\n",
              "      <th>0</th>\n",
              "      <td>0</td>\n",
              "      <td>1</td>\n",
              "      <td>Rarible</td>\n",
              "      <td>0xd07dc4262bcdbf85190c01c996b4c06a461d2430</td>\n",
              "      <td>455803000000000000</td>\n",
              "      <td>1348.53200</td>\n",
              "      <td>11994815789473700</td>\n",
              "      <td>35.487686</td>\n",
              "      <td>2020-05-27T11:49:56Z</td>\n",
              "      <td>6269271259687780000000000000000</td>\n",
              "      <td>1.854817e+16</td>\n",
              "      <td>129114</td>\n",
              "      <td>44173</td>\n",
              "      <td>34484</td>\n",
              "      <td>297660000000000000000</td>\n",
              "      <td>880652.50</td>\n",
              "      <td>64745674439627100</td>\n",
              "      <td>1.915556e+02</td>\n",
              "      <td>2958.5852</td>\n",
              "      <td>USD</td>\n",
              "      <td>2022-03-01</td>\n",
              "    </tr>\n",
              "    <tr>\n",
              "      <th>1</th>\n",
              "      <td>1</td>\n",
              "      <td>1</td>\n",
              "      <td>Town Star</td>\n",
              "      <td>0xc36cf0cfcb5d905b8b513860db0cfe63f6cf9f5c</td>\n",
              "      <td>28500000000000000</td>\n",
              "      <td>84.31968</td>\n",
              "      <td>9500000000000000</td>\n",
              "      <td>28.106560</td>\n",
              "      <td>2020-06-04T10:24:49Z</td>\n",
              "      <td>35981883969154600000000000</td>\n",
              "      <td>1.064555e+11</td>\n",
              "      <td>105</td>\n",
              "      <td>22</td>\n",
              "      <td>42</td>\n",
              "      <td>36000000000000000000</td>\n",
              "      <td>106509.07</td>\n",
              "      <td>13375000000000000</td>\n",
              "      <td>3.957108e+01</td>\n",
              "      <td>2958.5852</td>\n",
              "      <td>USD</td>\n",
              "      <td>2022-03-01</td>\n",
              "    </tr>\n",
              "    <tr>\n",
              "      <th>2</th>\n",
              "      <td>2</td>\n",
              "      <td>1</td>\n",
              "      <td>Fantasy Islands - Sandbox</td>\n",
              "      <td>0x68aea268f92b715e073d2f5170039faa4b94a47b</td>\n",
              "      <td>0</td>\n",
              "      <td>0.00000</td>\n",
              "      <td>0</td>\n",
              "      <td>0.000000</td>\n",
              "      <td>2021-08-20T00:00:55Z</td>\n",
              "      <td>1153800000000000000000000</td>\n",
              "      <td>3.413616e+09</td>\n",
              "      <td>87</td>\n",
              "      <td>74</td>\n",
              "      <td>1</td>\n",
              "      <td>11666000000000000000000</td>\n",
              "      <td>34514856.00</td>\n",
              "      <td>7770666666666670000000</td>\n",
              "      <td>2.299018e+07</td>\n",
              "      <td>2958.5852</td>\n",
              "      <td>USD</td>\n",
              "      <td>2022-03-01</td>\n",
              "    </tr>\n",
              "    <tr>\n",
              "      <th>3</th>\n",
              "      <td>3</td>\n",
              "      <td>1</td>\n",
              "      <td>Sandbox's LANDs</td>\n",
              "      <td>0x50f5474724e0ee42d9a4e711ccfb275809fd6d4a</td>\n",
              "      <td>0</td>\n",
              "      <td>0.00000</td>\n",
              "      <td>0</td>\n",
              "      <td>0.000000</td>\n",
              "      <td>NaN</td>\n",
              "      <td>263547080954828000000000</td>\n",
              "      <td>7.797265e+08</td>\n",
              "      <td>88304</td>\n",
              "      <td>18916</td>\n",
              "      <td>37782</td>\n",
              "      <td>150000000000000000000</td>\n",
              "      <td>443787.78</td>\n",
              "      <td>3577416666666670000</td>\n",
              "      <td>1.058409e+04</td>\n",
              "      <td>2958.5852</td>\n",
              "      <td>USD</td>\n",
              "      <td>2022-03-01</td>\n",
              "    </tr>\n",
              "    <tr>\n",
              "      <th>4</th>\n",
              "      <td>4</td>\n",
              "      <td>1</td>\n",
              "      <td>BoredApeYachtClub</td>\n",
              "      <td>0xbc4ca0eda7647a8ab7c2061c2e118a18a936f13d</td>\n",
              "      <td>0</td>\n",
              "      <td>0.00000</td>\n",
              "      <td>0</td>\n",
              "      <td>0.000000</td>\n",
              "      <td>2021-04-22T03:03:16Z</td>\n",
              "      <td>257858656076322000000000</td>\n",
              "      <td>7.628968e+08</td>\n",
              "      <td>28018</td>\n",
              "      <td>9495</td>\n",
              "      <td>8557</td>\n",
              "      <td>1080690000000000000000</td>\n",
              "      <td>3197313.50</td>\n",
              "      <td>102203635767196000000</td>\n",
              "      <td>3.023782e+05</td>\n",
              "      <td>2958.5852</td>\n",
              "      <td>USD</td>\n",
              "      <td>2022-03-01</td>\n",
              "    </tr>\n",
              "  </tbody>\n",
              "</table>\n",
              "</div>\n",
              "      <button class=\"colab-df-convert\" onclick=\"convertToInteractive('df-a0558d45-cced-4513-ad60-eac9a7dbc88e')\"\n",
              "              title=\"Convert this dataframe to an interactive table.\"\n",
              "              style=\"display:none;\">\n",
              "        \n",
              "  <svg xmlns=\"http://www.w3.org/2000/svg\" height=\"24px\"viewBox=\"0 0 24 24\"\n",
              "       width=\"24px\">\n",
              "    <path d=\"M0 0h24v24H0V0z\" fill=\"none\"/>\n",
              "    <path d=\"M18.56 5.44l.94 2.06.94-2.06 2.06-.94-2.06-.94-.94-2.06-.94 2.06-2.06.94zm-11 1L8.5 8.5l.94-2.06 2.06-.94-2.06-.94L8.5 2.5l-.94 2.06-2.06.94zm10 10l.94 2.06.94-2.06 2.06-.94-2.06-.94-.94-2.06-.94 2.06-2.06.94z\"/><path d=\"M17.41 7.96l-1.37-1.37c-.4-.4-.92-.59-1.43-.59-.52 0-1.04.2-1.43.59L10.3 9.45l-7.72 7.72c-.78.78-.78 2.05 0 2.83L4 21.41c.39.39.9.59 1.41.59.51 0 1.02-.2 1.41-.59l7.78-7.78 2.81-2.81c.8-.78.8-2.07 0-2.86zM5.41 20L4 18.59l7.72-7.72 1.47 1.35L5.41 20z\"/>\n",
              "  </svg>\n",
              "      </button>\n",
              "      \n",
              "  <style>\n",
              "    .colab-df-container {\n",
              "      display:flex;\n",
              "      flex-wrap:wrap;\n",
              "      gap: 12px;\n",
              "    }\n",
              "\n",
              "    .colab-df-convert {\n",
              "      background-color: #E8F0FE;\n",
              "      border: none;\n",
              "      border-radius: 50%;\n",
              "      cursor: pointer;\n",
              "      display: none;\n",
              "      fill: #1967D2;\n",
              "      height: 32px;\n",
              "      padding: 0 0 0 0;\n",
              "      width: 32px;\n",
              "    }\n",
              "\n",
              "    .colab-df-convert:hover {\n",
              "      background-color: #E2EBFA;\n",
              "      box-shadow: 0px 1px 2px rgba(60, 64, 67, 0.3), 0px 1px 3px 1px rgba(60, 64, 67, 0.15);\n",
              "      fill: #174EA6;\n",
              "    }\n",
              "\n",
              "    [theme=dark] .colab-df-convert {\n",
              "      background-color: #3B4455;\n",
              "      fill: #D2E3FC;\n",
              "    }\n",
              "\n",
              "    [theme=dark] .colab-df-convert:hover {\n",
              "      background-color: #434B5C;\n",
              "      box-shadow: 0px 1px 3px 1px rgba(0, 0, 0, 0.15);\n",
              "      filter: drop-shadow(0px 1px 2px rgba(0, 0, 0, 0.3));\n",
              "      fill: #FFFFFF;\n",
              "    }\n",
              "  </style>\n",
              "\n",
              "      <script>\n",
              "        const buttonEl =\n",
              "          document.querySelector('#df-a0558d45-cced-4513-ad60-eac9a7dbc88e button.colab-df-convert');\n",
              "        buttonEl.style.display =\n",
              "          google.colab.kernel.accessAllowed ? 'block' : 'none';\n",
              "\n",
              "        async function convertToInteractive(key) {\n",
              "          const element = document.querySelector('#df-a0558d45-cced-4513-ad60-eac9a7dbc88e');\n",
              "          const dataTable =\n",
              "            await google.colab.kernel.invokeFunction('convertToInteractive',\n",
              "                                                     [key], {});\n",
              "          if (!dataTable) return;\n",
              "\n",
              "          const docLinkHtml = 'Like what you see? Visit the ' +\n",
              "            '<a target=\"_blank\" href=https://colab.research.google.com/notebooks/data_table.ipynb>data table notebook</a>'\n",
              "            + ' to learn more about interactive tables.';\n",
              "          element.innerHTML = '';\n",
              "          dataTable['output_type'] = 'display_data';\n",
              "          await google.colab.output.renderOutput(dataTable, element);\n",
              "          const docLink = document.createElement('div');\n",
              "          docLink.innerHTML = docLinkHtml;\n",
              "          element.appendChild(docLink);\n",
              "        }\n",
              "      </script>\n",
              "    </div>\n",
              "  </div>\n",
              "  "
            ],
            "text/plain": [
              "   Unnamed: 0  chain_id  ... quote_currency opening_date\n",
              "0           0         1  ...            USD   2022-03-01\n",
              "1           1         1  ...            USD   2022-03-01\n",
              "2           2         1  ...            USD   2022-03-01\n",
              "3           3         1  ...            USD   2022-03-01\n",
              "4           4         1  ...            USD   2022-03-01\n",
              "\n",
              "[5 rows x 21 columns]"
            ]
          },
          "metadata": {},
          "execution_count": 2
        }
      ]
    },
    {
      "cell_type": "code",
      "source": [
        "showdata.tail()"
      ],
      "metadata": {
        "colab": {
          "base_uri": "https://localhost:8080/",
          "height": 339
        },
        "id": "LnrSQyLiwEc9",
        "outputId": "fdd4254b-0038-4d2e-8527-1b6f7b25c145"
      },
      "execution_count": null,
      "outputs": [
        {
          "output_type": "stream",
          "name": "stdout",
          "text": [
            "Warning: Total number of columns (21) exceeds max_columns (20). Falling back to pandas display.\n"
          ]
        },
        {
          "output_type": "execute_result",
          "data": {
            "text/html": [
              "\n",
              "  <div id=\"df-f7bed276-7fc3-4cda-a090-4474b894eb78\">\n",
              "    <div class=\"colab-df-container\">\n",
              "      <div>\n",
              "<style scoped>\n",
              "    .dataframe tbody tr th:only-of-type {\n",
              "        vertical-align: middle;\n",
              "    }\n",
              "\n",
              "    .dataframe tbody tr th {\n",
              "        vertical-align: top;\n",
              "    }\n",
              "\n",
              "    .dataframe thead th {\n",
              "        text-align: right;\n",
              "    }\n",
              "</style>\n",
              "<table border=\"1\" class=\"dataframe\">\n",
              "  <thead>\n",
              "    <tr style=\"text-align: right;\">\n",
              "      <th></th>\n",
              "      <th>Unnamed: 0</th>\n",
              "      <th>chain_id</th>\n",
              "      <th>collection_name</th>\n",
              "      <th>collection_address</th>\n",
              "      <th>volume_wei_24h</th>\n",
              "      <th>volume_quote_24h</th>\n",
              "      <th>avg_volume_wei_24h</th>\n",
              "      <th>avg_volume_quote_24h</th>\n",
              "      <th>contract_deployment_at</th>\n",
              "      <th>market_cap_wei</th>\n",
              "      <th>market_cap_quote</th>\n",
              "      <th>transaction_count_alltime</th>\n",
              "      <th>unique_wallet_purchase_count_alltime</th>\n",
              "      <th>unique_token_ids_sold_count_alltime</th>\n",
              "      <th>max_price_wei</th>\n",
              "      <th>max_price_quote</th>\n",
              "      <th>floor_price_wei_7d</th>\n",
              "      <th>floor_price_quote_7d</th>\n",
              "      <th>gas_quote_rate</th>\n",
              "      <th>quote_currency</th>\n",
              "      <th>opening_date</th>\n",
              "    </tr>\n",
              "  </thead>\n",
              "  <tbody>\n",
              "    <tr>\n",
              "      <th>12920</th>\n",
              "      <td>12920</td>\n",
              "      <td>250</td>\n",
              "      <td>Alpaca Finance NFT</td>\n",
              "      <td>0x81443d50206bb5c23d8a9bdcafc1a691945420f9</td>\n",
              "      <td>2000000000000000000</td>\n",
              "      <td>3.657106</td>\n",
              "      <td>2000000000000000000</td>\n",
              "      <td>3.657106</td>\n",
              "      <td>2022-02-10T11:30:43Z</td>\n",
              "      <td>17800000000000000000</td>\n",
              "      <td>32.548250</td>\n",
              "      <td>12</td>\n",
              "      <td>6</td>\n",
              "      <td>12</td>\n",
              "      <td>2000000000000000000</td>\n",
              "      <td>3.657106</td>\n",
              "      <td>1490000000000000000</td>\n",
              "      <td>2.724544</td>\n",
              "      <td>1.828553</td>\n",
              "      <td>USD</td>\n",
              "      <td>2022-03-01</td>\n",
              "    </tr>\n",
              "    <tr>\n",
              "      <th>12921</th>\n",
              "      <td>12921</td>\n",
              "      <td>250</td>\n",
              "      <td>Gorgon Medusa</td>\n",
              "      <td>0x20524979212021e4be429811e58bcbac7625a0e4</td>\n",
              "      <td>0</td>\n",
              "      <td>0.000000</td>\n",
              "      <td>0</td>\n",
              "      <td>0.000000</td>\n",
              "      <td>2021-12-31T12:26:42Z</td>\n",
              "      <td>15655000000000000000</td>\n",
              "      <td>28.626000</td>\n",
              "      <td>4</td>\n",
              "      <td>4</td>\n",
              "      <td>3</td>\n",
              "      <td>12000000000000000000</td>\n",
              "      <td>21.942638</td>\n",
              "      <td>2500000000000000000</td>\n",
              "      <td>4.571383</td>\n",
              "      <td>1.828553</td>\n",
              "      <td>USD</td>\n",
              "      <td>2022-03-01</td>\n",
              "    </tr>\n",
              "    <tr>\n",
              "      <th>12922</th>\n",
              "      <td>12922</td>\n",
              "      <td>250</td>\n",
              "      <td>SpookyVerse Ecosystem</td>\n",
              "      <td>0x44d05abbcd94ab5503c1c5dda374a7d4d7e35137</td>\n",
              "      <td>0</td>\n",
              "      <td>0.000000</td>\n",
              "      <td>0</td>\n",
              "      <td>0.000000</td>\n",
              "      <td>2022-02-06T23:01:20Z</td>\n",
              "      <td>10000000000000000000</td>\n",
              "      <td>18.285532</td>\n",
              "      <td>1</td>\n",
              "      <td>1</td>\n",
              "      <td>1</td>\n",
              "      <td>10000000000000000000</td>\n",
              "      <td>18.285532</td>\n",
              "      <td>10000000000000000000</td>\n",
              "      <td>18.285532</td>\n",
              "      <td>1.828553</td>\n",
              "      <td>USD</td>\n",
              "      <td>2022-03-01</td>\n",
              "    </tr>\n",
              "    <tr>\n",
              "      <th>12923</th>\n",
              "      <td>12923</td>\n",
              "      <td>250</td>\n",
              "      <td>DuelistKingItem</td>\n",
              "      <td>0x6c375585a31718c38d4e3eb3eddbfb203f142834</td>\n",
              "      <td>0</td>\n",
              "      <td>0.000000</td>\n",
              "      <td>0</td>\n",
              "      <td>0.000000</td>\n",
              "      <td>NaN</td>\n",
              "      <td>6500000000000000000</td>\n",
              "      <td>11.885595</td>\n",
              "      <td>5</td>\n",
              "      <td>5</td>\n",
              "      <td>5</td>\n",
              "      <td>20000000000000000000</td>\n",
              "      <td>36.571064</td>\n",
              "      <td>3250000000000000000</td>\n",
              "      <td>5.942798</td>\n",
              "      <td>1.828553</td>\n",
              "      <td>USD</td>\n",
              "      <td>2022-03-01</td>\n",
              "    </tr>\n",
              "    <tr>\n",
              "      <th>12924</th>\n",
              "      <td>12924</td>\n",
              "      <td>250</td>\n",
              "      <td>Fantom Shroomies</td>\n",
              "      <td>0x7e797a82de0c182efe8b89e04aba0426f657b774</td>\n",
              "      <td>0</td>\n",
              "      <td>0.000000</td>\n",
              "      <td>0</td>\n",
              "      <td>0.000000</td>\n",
              "      <td>2022-02-18T20:45:17Z</td>\n",
              "      <td>3000000000000000000</td>\n",
              "      <td>5.485660</td>\n",
              "      <td>1</td>\n",
              "      <td>1</td>\n",
              "      <td>1</td>\n",
              "      <td>3000000000000000000</td>\n",
              "      <td>5.485660</td>\n",
              "      <td>3000000000000000000</td>\n",
              "      <td>5.485660</td>\n",
              "      <td>1.828553</td>\n",
              "      <td>USD</td>\n",
              "      <td>2022-03-01</td>\n",
              "    </tr>\n",
              "  </tbody>\n",
              "</table>\n",
              "</div>\n",
              "      <button class=\"colab-df-convert\" onclick=\"convertToInteractive('df-f7bed276-7fc3-4cda-a090-4474b894eb78')\"\n",
              "              title=\"Convert this dataframe to an interactive table.\"\n",
              "              style=\"display:none;\">\n",
              "        \n",
              "  <svg xmlns=\"http://www.w3.org/2000/svg\" height=\"24px\"viewBox=\"0 0 24 24\"\n",
              "       width=\"24px\">\n",
              "    <path d=\"M0 0h24v24H0V0z\" fill=\"none\"/>\n",
              "    <path d=\"M18.56 5.44l.94 2.06.94-2.06 2.06-.94-2.06-.94-.94-2.06-.94 2.06-2.06.94zm-11 1L8.5 8.5l.94-2.06 2.06-.94-2.06-.94L8.5 2.5l-.94 2.06-2.06.94zm10 10l.94 2.06.94-2.06 2.06-.94-2.06-.94-.94-2.06-.94 2.06-2.06.94z\"/><path d=\"M17.41 7.96l-1.37-1.37c-.4-.4-.92-.59-1.43-.59-.52 0-1.04.2-1.43.59L10.3 9.45l-7.72 7.72c-.78.78-.78 2.05 0 2.83L4 21.41c.39.39.9.59 1.41.59.51 0 1.02-.2 1.41-.59l7.78-7.78 2.81-2.81c.8-.78.8-2.07 0-2.86zM5.41 20L4 18.59l7.72-7.72 1.47 1.35L5.41 20z\"/>\n",
              "  </svg>\n",
              "      </button>\n",
              "      \n",
              "  <style>\n",
              "    .colab-df-container {\n",
              "      display:flex;\n",
              "      flex-wrap:wrap;\n",
              "      gap: 12px;\n",
              "    }\n",
              "\n",
              "    .colab-df-convert {\n",
              "      background-color: #E8F0FE;\n",
              "      border: none;\n",
              "      border-radius: 50%;\n",
              "      cursor: pointer;\n",
              "      display: none;\n",
              "      fill: #1967D2;\n",
              "      height: 32px;\n",
              "      padding: 0 0 0 0;\n",
              "      width: 32px;\n",
              "    }\n",
              "\n",
              "    .colab-df-convert:hover {\n",
              "      background-color: #E2EBFA;\n",
              "      box-shadow: 0px 1px 2px rgba(60, 64, 67, 0.3), 0px 1px 3px 1px rgba(60, 64, 67, 0.15);\n",
              "      fill: #174EA6;\n",
              "    }\n",
              "\n",
              "    [theme=dark] .colab-df-convert {\n",
              "      background-color: #3B4455;\n",
              "      fill: #D2E3FC;\n",
              "    }\n",
              "\n",
              "    [theme=dark] .colab-df-convert:hover {\n",
              "      background-color: #434B5C;\n",
              "      box-shadow: 0px 1px 3px 1px rgba(0, 0, 0, 0.15);\n",
              "      filter: drop-shadow(0px 1px 2px rgba(0, 0, 0, 0.3));\n",
              "      fill: #FFFFFF;\n",
              "    }\n",
              "  </style>\n",
              "\n",
              "      <script>\n",
              "        const buttonEl =\n",
              "          document.querySelector('#df-f7bed276-7fc3-4cda-a090-4474b894eb78 button.colab-df-convert');\n",
              "        buttonEl.style.display =\n",
              "          google.colab.kernel.accessAllowed ? 'block' : 'none';\n",
              "\n",
              "        async function convertToInteractive(key) {\n",
              "          const element = document.querySelector('#df-f7bed276-7fc3-4cda-a090-4474b894eb78');\n",
              "          const dataTable =\n",
              "            await google.colab.kernel.invokeFunction('convertToInteractive',\n",
              "                                                     [key], {});\n",
              "          if (!dataTable) return;\n",
              "\n",
              "          const docLinkHtml = 'Like what you see? Visit the ' +\n",
              "            '<a target=\"_blank\" href=https://colab.research.google.com/notebooks/data_table.ipynb>data table notebook</a>'\n",
              "            + ' to learn more about interactive tables.';\n",
              "          element.innerHTML = '';\n",
              "          dataTable['output_type'] = 'display_data';\n",
              "          await google.colab.output.renderOutput(dataTable, element);\n",
              "          const docLink = document.createElement('div');\n",
              "          docLink.innerHTML = docLinkHtml;\n",
              "          element.appendChild(docLink);\n",
              "        }\n",
              "      </script>\n",
              "    </div>\n",
              "  </div>\n",
              "  "
            ],
            "text/plain": [
              "       Unnamed: 0  chain_id  ... quote_currency opening_date\n",
              "12920       12920       250  ...            USD   2022-03-01\n",
              "12921       12921       250  ...            USD   2022-03-01\n",
              "12922       12922       250  ...            USD   2022-03-01\n",
              "12923       12923       250  ...            USD   2022-03-01\n",
              "12924       12924       250  ...            USD   2022-03-01\n",
              "\n",
              "[5 rows x 21 columns]"
            ]
          },
          "metadata": {},
          "execution_count": 3
        }
      ]
    },
    {
      "cell_type": "markdown",
      "source": [
        "#Next we will transform the data sheet into a database file (click the arrow to see the code)"
      ],
      "metadata": {
        "id": "lcfiuUMYw9vd"
      }
    },
    {
      "cell_type": "code",
      "source": [
        "#Connects to our database file named masterdb and reads our excel data into it (we can now perform sql queries on the nft data)\n",
        "con = sqlite3.connect(\"masterdb.db\")\n",
        "dfs = pd.read_excel('master.xlsx', sheet_name=None)\n",
        "for table, df in dfs.items():\n",
        "    try:\n",
        "      df.to_sql(table, con)\n",
        "    except:\n",
        "      pass"
      ],
      "metadata": {
        "colab": {
          "base_uri": "https://localhost:8080/"
        },
        "id": "vbX1LaqnQwnS",
        "outputId": "d896cbe7-ce59-428c-e221-a0f688ef6ad6"
      },
      "execution_count": null,
      "outputs": [
        {
          "output_type": "stream",
          "name": "stderr",
          "text": [
            "/usr/local/lib/python3.7/dist-packages/pandas/core/generic.py:2882: UserWarning: The spaces in these column names will not be changed. In pandas versions < 0.14, spaces were converted to underscores.\n",
            "  method=method,\n"
          ]
        }
      ]
    },
    {
      "cell_type": "markdown",
      "source": [
        "#Then we write the 10 questions as SQL queries (click the arrow below to see the SQL query logic)"
      ],
      "metadata": {
        "id": "DSSz2QtVxQnB"
      }
    },
    {
      "cell_type": "code",
      "source": [
        "#QUERY 1 Shows the top 5 collections on Ethereum by quoted market cap\n",
        "query1 = '''select collection_name\n",
        "FROM Sheet1\n",
        "WHERE chain_id == 1 \n",
        "ORDER BY market_cap_quote DESC\n",
        "LIMIT 5;'''"
      ],
      "metadata": {
        "id": "IofLA95bhE5o"
      },
      "execution_count": null,
      "outputs": []
    },
    {
      "cell_type": "code",
      "source": [
        "#QUERY 2 Shows the top 5 collections on Polygon by quoted market cap\n",
        "query2 = '''select collection_name\n",
        "FROM Sheet1\n",
        "WHERE chain_id == 137 \n",
        "ORDER BY market_cap_quote DESC\n",
        "LIMIT 5;'''"
      ],
      "metadata": {
        "id": "XB3FIRIK_Ay0"
      },
      "execution_count": null,
      "outputs": []
    },
    {
      "cell_type": "code",
      "source": [
        "#QUERY 3 Shows the top 5 collections on Avalanche by quoted market cap\n",
        "query3 = '''select collection_name\n",
        "FROM Sheet1\n",
        "WHERE chain_id == 43114 \n",
        "ORDER BY market_cap_quote DESC\n",
        "LIMIT 5;'''"
      ],
      "metadata": {
        "id": "1QkFuRfrA1lB"
      },
      "execution_count": null,
      "outputs": []
    },
    {
      "cell_type": "code",
      "source": [
        "#QUERY 4 Shows the top 5 collections on Fantom by quoted market cap \n",
        "query4 = '''select collection_name\n",
        "FROM Sheet1\n",
        "WHERE chain_id == 250 \n",
        "ORDER BY market_cap_quote DESC\n",
        "LIMIT 5;'''"
      ],
      "metadata": {
        "id": "qo5Q9UykA-W2"
      },
      "execution_count": null,
      "outputs": []
    },
    {
      "cell_type": "code",
      "source": [
        "#QUERY 5 shows the amount of collections by chain id\n",
        "query5 = '''SELECT count(*), chain_id FROM Sheet1 \n",
        "GROUP BY (chain_id)\n",
        "ORDER BY count(*) DESC;'''"
      ],
      "metadata": {
        "id": "15PqXdA7kccM"
      },
      "execution_count": null,
      "outputs": []
    },
    {
      "cell_type": "code",
      "source": [
        "#QUERY 6 shows the earliest contract deployment on Ethereum\n",
        "query6 ='''SELECT collection_name, contract_deployment_at FROM Sheet1\n",
        "WHERE chain_id = 1 and contract_deployment_at NOTNULL\n",
        "ORDER BY (contract_deployment_at)\n",
        "LIMIT 1;'''"
      ],
      "metadata": {
        "id": "LDrzNniZlasg"
      },
      "execution_count": null,
      "outputs": []
    },
    {
      "cell_type": "code",
      "source": [
        "#QUERY 7 shows the earliest contract deployment on Polygon\n",
        "query7 ='''SELECT collection_name, contract_deployment_at FROM Sheet1\n",
        "WHERE chain_id = 137 and contract_deployment_at NOTNULL\n",
        "ORDER BY (contract_deployment_at)\n",
        "LIMIT 1;'''"
      ],
      "metadata": {
        "id": "C_sancw8nKsp"
      },
      "execution_count": null,
      "outputs": []
    },
    {
      "cell_type": "code",
      "source": [
        "#QUERY 8 shows the earliest contract deployment on Avalanche\n",
        "query8 = '''SELECT collection_name, contract_deployment_at FROM Sheet1\n",
        "WHERE chain_id = 43114 and contract_deployment_at NOTNULL\n",
        "ORDER BY (contract_deployment_at)\n",
        "LIMIT 1;'''"
      ],
      "metadata": {
        "id": "JN4nCLpMnSCQ"
      },
      "execution_count": null,
      "outputs": []
    },
    {
      "cell_type": "code",
      "source": [
        "#QUERY 9 shows the earliest contract deployment on Fantom\n",
        "query9 = '''SELECT collection_name, contract_deployment_at FROM Sheet1\n",
        "WHERE chain_id = 250 and contract_deployment_at NOTNULL\n",
        "ORDER BY (contract_deployment_at)\n",
        "LIMIT 1;'''"
      ],
      "metadata": {
        "id": "CxGMNW8enV0B"
      },
      "execution_count": null,
      "outputs": []
    },
    {
      "cell_type": "code",
      "source": [
        "#QUERY 10 shows the highest transaction count collection out of all chains\n",
        "query10 = '''SELECT collection_name FROM Sheet1\n",
        "ORDER BY transaction_count_alltime DESC\n",
        "LIMIT 1;'''"
      ],
      "metadata": {
        "id": "cB8Oq22voATM"
      },
      "execution_count": null,
      "outputs": []
    },
    {
      "cell_type": "markdown",
      "source": [
        "#Now that we have written all of our questions about the NFT data, we will find the results and print the data "
      ],
      "metadata": {
        "id": "Zfo2S1Qmo_Mm"
      }
    },
    {
      "cell_type": "code",
      "source": [
        "cur = con.cursor()\n",
        "cur.execute(query1)\n",
        "q1 = (cur.fetchall())\n",
        "print('The following are the top 5 collections by quoted market cap on Ethereum')\n",
        "for i in range (5):\n",
        "  print(q1[i][0])"
      ],
      "metadata": {
        "colab": {
          "base_uri": "https://localhost:8080/"
        },
        "id": "0cqZMKRZpHzw",
        "outputId": "fd43d366-9b09-4060-9758-cc7a9afa53c4"
      },
      "execution_count": null,
      "outputs": [
        {
          "output_type": "stream",
          "name": "stdout",
          "text": [
            "The following are the top 5 collections by quoted market cap on ethereum\n",
            "Rarible\n",
            "Town Star\n",
            "Fantasy Islands - Sandbox \n",
            "Sandbox's LANDs\n",
            "BoredApeYachtClub\n"
          ]
        }
      ]
    },
    {
      "cell_type": "code",
      "source": [
        "cur.execute(query2)\n",
        "q2 = (cur.fetchall())\n",
        "print('The following are the top 5 collections by quoted market cap on Polygon')\n",
        "for i in range (5):\n",
        "  print(q2[i][0])\n"
      ],
      "metadata": {
        "colab": {
          "base_uri": "https://localhost:8080/"
        },
        "id": "mOL1M2EH1fMe",
        "outputId": "8b271f6b-2a50-47b1-a14b-545c723be36f"
      },
      "execution_count": null,
      "outputs": [
        {
          "output_type": "stream",
          "name": "stdout",
          "text": [
            "The following are the top 5 collections by quoted market cap on polygon\n",
            "ZED Horse\n",
            "Crypto Unicorns\n",
            "Chicken Derby\n",
            "DeRace Horses\n",
            "Chumbi\n"
          ]
        }
      ]
    },
    {
      "cell_type": "code",
      "source": [
        "cur.execute(query3)\n",
        "q3 = (cur.fetchall())\n",
        "print('The following are the top 5 collections by quoted market cap on Avalanche')\n",
        "for i in range (5):\n",
        "  print(q3[i][0])\n"
      ],
      "metadata": {
        "colab": {
          "base_uri": "https://localhost:8080/"
        },
        "id": "kmzAXHEr1yz-",
        "outputId": "6c0f8541-0f88-4e95-bbe2-8659ae1d5496"
      },
      "execution_count": null,
      "outputs": [
        {
          "output_type": "stream",
          "name": "stdout",
          "text": [
            "The following are the top 5 collections by quoted market cap on Avalanche\n",
            "Universe Ecosystem\n",
            "Pizza Game Chefs\n",
            "Sheep Game\n",
            "Police & Thief Game\n",
            "Cauldron\n"
          ]
        }
      ]
    },
    {
      "cell_type": "code",
      "source": [
        "cur.execute(query4)\n",
        "q4 = (cur.fetchall())\n",
        "print('The following are the top 5 collections by quoted market cap on Fantom')\n",
        "for i in range (5):\n",
        "  print(q4[i][0])"
      ],
      "metadata": {
        "colab": {
          "base_uri": "https://localhost:8080/"
        },
        "id": "PQEvKk44180k",
        "outputId": "06b5531a-9979-4d3c-e937-bd57b78fedd2"
      },
      "execution_count": null,
      "outputs": [
        {
          "output_type": "stream",
          "name": "stdout",
          "text": [
            "The following are the top 5 collections by quoted market cap on Fantom\n",
            "Nautilus\n",
            "SpookyVerse Ecosystem\n",
            "Basic Apes Token\n",
            "Humans VS Zombies\n",
            "FantomFrogs\n"
          ]
        }
      ]
    },
    {
      "cell_type": "code",
      "source": [
        "cur.execute(query5)\n",
        "q5 = (cur.fetchall())\n",
        "print('The following are the amount of collections based on chain ID (1 = ethereum, 137 = polygon, 43114 = avalanche, 250 = fantom')\n",
        "for i in range (4):\n",
        "  print('Amount:',q5[i][0],'Chain Id:',q5[i][1])\n",
        "  "
      ],
      "metadata": {
        "colab": {
          "base_uri": "https://localhost:8080/"
        },
        "id": "l9pmCPE02D-M",
        "outputId": "ba8b0d0c-ef3a-4a53-cd6a-2a26b590f3ad"
      },
      "execution_count": null,
      "outputs": [
        {
          "output_type": "stream",
          "name": "stdout",
          "text": [
            "The following are the amount of collections based on chain ID (1 = ethereum, 137 = polygon, 43114 = avalanche, 250 = fantom\n",
            "Amount: 9039 Chain Id: 1\n",
            "Amount: 3545 Chain Id: 137\n",
            "Amount: 308 Chain Id: 43114\n",
            "Amount: 33 Chain Id: 250\n"
          ]
        }
      ]
    },
    {
      "cell_type": "code",
      "source": [
        "cur.execute(query6)\n",
        "q6 = (cur.fetchall())\n",
        "print('The oldest contract deployment on Ethereum is:', q6[0][0], 'on', q6[0][1])"
      ],
      "metadata": {
        "colab": {
          "base_uri": "https://localhost:8080/"
        },
        "id": "b0COWloN20BM",
        "outputId": "355a1bd3-c9c4-4f5b-f43d-02ee39c6bcc7"
      },
      "execution_count": null,
      "outputs": [
        {
          "output_type": "stream",
          "name": "stdout",
          "text": [
            "The oldest contract deployment on ethereum is: CryptoKitties on 2017-11-23T05:41:19Z\n"
          ]
        }
      ]
    },
    {
      "cell_type": "code",
      "source": [
        "cur.execute(query7)\n",
        "q7 = (cur.fetchall())\n",
        "print('The oldest contract deployment on Polygon is:', q7[0][0], 'on', q7[0][1])"
      ],
      "metadata": {
        "colab": {
          "base_uri": "https://localhost:8080/"
        },
        "id": "x9VSozqy3b7h",
        "outputId": "1eb6bec5-b224-46af-c00d-3b7595885d6e"
      },
      "execution_count": null,
      "outputs": [
        {
          "output_type": "stream",
          "name": "stdout",
          "text": [
            "The oldest contract deployment on Polygon is: Neon District Season One Item on 2020-08-13T19:05:14Z\n"
          ]
        }
      ]
    },
    {
      "cell_type": "code",
      "source": [
        "cur.execute(query8)\n",
        "q8 = (cur.fetchall())\n",
        "print('The oldest contract deployment on Avalanche is:', q8[0][0], 'on', q8[0][1])"
      ],
      "metadata": {
        "colab": {
          "base_uri": "https://localhost:8080/"
        },
        "id": "FCxHdcU63jwb",
        "outputId": "99aa9a81-b0b3-4c47-ba0d-b425bd4be7c5"
      },
      "execution_count": null,
      "outputs": [
        {
          "output_type": "stream",
          "name": "stdout",
          "text": [
            "The oldest contract deployment on Avalanche is: CryptoSeals on 2021-03-22T14:07:07Z\n"
          ]
        }
      ]
    },
    {
      "cell_type": "code",
      "source": [
        "cur.execute(query9)\n",
        "q9 = (cur.fetchall())\n",
        "print('The oldest contract deployment on Fantom is:', q9[0][0], 'on', q9[0][1])"
      ],
      "metadata": {
        "colab": {
          "base_uri": "https://localhost:8080/"
        },
        "id": "UzQxNlxV3oz2",
        "outputId": "d6be09c8-ccbc-4ae9-fbf2-b01eb56c93ba"
      },
      "execution_count": null,
      "outputs": [
        {
          "output_type": "stream",
          "name": "stdout",
          "text": [
            "The oldest contract deployment on Fantom is: CryptoWormzNFT on 2021-10-29T17:20:52Z\n"
          ]
        }
      ]
    },
    {
      "cell_type": "code",
      "source": [
        "cur.execute(query10)\n",
        "q10 = (cur.fetchall())\n",
        "print('The collection with the most transactions compared on all chains is:', q10[0][0])"
      ],
      "metadata": {
        "colab": {
          "base_uri": "https://localhost:8080/"
        },
        "id": "cfGalrrS3zQb",
        "outputId": "f263c829-8a39-48dc-eadf-eee44879edf2"
      },
      "execution_count": null,
      "outputs": [
        {
          "output_type": "stream",
          "name": "stdout",
          "text": [
            "The Collection with the most transactions compared on all chains is: ZED Horse\n"
          ]
        }
      ]
    }
  ]
}